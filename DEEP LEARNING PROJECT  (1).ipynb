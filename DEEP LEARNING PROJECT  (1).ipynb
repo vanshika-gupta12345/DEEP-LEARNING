{
 "cells": [
  {
   "cell_type": "code",
   "execution_count": null,
   "id": "9b379296",
   "metadata": {},
   "outputs": [],
   "source": [
    "#Problem Statement:\n",
    "#Prodigy University is seeking to enhance its enrollment process. They plan to do so by implementing a predictive analytics model aimed at identifying prospective students who demonstrate a high potential for academic success. \n",
    "#The goal is to develop a predictive model that can accurately forecast the first-year college GPA of applicants based on their SAT scores and high school scores. This model is intended to serve as a strategic tool for the admissions office, enabling them to efficiently shortlist candidates who not only meet the academic standards of the university but are also likely to thrive in their chosen fields of study. By doing so, the university aspires to optimize its student selection process, improve academic outcomes, and foster an environment of excellence and high achievement.\n",
    "#Using ANN Find:\n",
    "#1)Linear Regression to predict the first year college grades of students from their high school SAT and GPA scores.\n",
    "#2)Find all types of Gradient descent values.\n",
    "#3)Find all Optimization Techniques values.\n"
   ]
  },
  {
   "cell_type": "code",
   "execution_count": 56,
   "id": "9d23c1f1",
   "metadata": {},
   "outputs": [],
   "source": [
    "#import libraries \n",
    "import numpy as np\n",
    "import pandas as pd\n",
    "from sklearn.model_selection import train_test_split\n",
    "from sklearn.linear_model import LinearRegression\n",
    "from sklearn.preprocessing import StandardScaler\n",
    "from sklearn.metrics import mean_squared_error, r2_score\n",
    "import tensorflow as tf\n",
    "from tensorflow.keras.models import Sequential\n",
    "from tensorflow.keras.layers import Dense\n",
    "from tensorflow.keras.optimizers import SGD, Adam\n",
    "import matplotlib.pyplot as plt"
   ]
  },
  {
   "cell_type": "code",
   "execution_count": 57,
   "id": "b5015537",
   "metadata": {},
   "outputs": [
    {
     "data": {
      "text/html": [
       "<div>\n",
       "<style scoped>\n",
       "    .dataframe tbody tr th:only-of-type {\n",
       "        vertical-align: middle;\n",
       "    }\n",
       "\n",
       "    .dataframe tbody tr th {\n",
       "        vertical-align: top;\n",
       "    }\n",
       "\n",
       "    .dataframe thead th {\n",
       "        text-align: right;\n",
       "    }\n",
       "</style>\n",
       "<table border=\"1\" class=\"dataframe\">\n",
       "  <thead>\n",
       "    <tr style=\"text-align: right;\">\n",
       "      <th></th>\n",
       "      <th>sat_sum</th>\n",
       "      <th>hs_gpa</th>\n",
       "      <th>fy_gpa</th>\n",
       "    </tr>\n",
       "  </thead>\n",
       "  <tbody>\n",
       "    <tr>\n",
       "      <th>0</th>\n",
       "      <td>508</td>\n",
       "      <td>3.40</td>\n",
       "      <td>3.18</td>\n",
       "    </tr>\n",
       "    <tr>\n",
       "      <th>1</th>\n",
       "      <td>488</td>\n",
       "      <td>4.00</td>\n",
       "      <td>3.33</td>\n",
       "    </tr>\n",
       "    <tr>\n",
       "      <th>2</th>\n",
       "      <td>464</td>\n",
       "      <td>3.75</td>\n",
       "      <td>3.25</td>\n",
       "    </tr>\n",
       "    <tr>\n",
       "      <th>3</th>\n",
       "      <td>380</td>\n",
       "      <td>3.75</td>\n",
       "      <td>2.42</td>\n",
       "    </tr>\n",
       "    <tr>\n",
       "      <th>4</th>\n",
       "      <td>428</td>\n",
       "      <td>4.00</td>\n",
       "      <td>2.63</td>\n",
       "    </tr>\n",
       "    <tr>\n",
       "      <th>...</th>\n",
       "      <td>...</td>\n",
       "      <td>...</td>\n",
       "      <td>...</td>\n",
       "    </tr>\n",
       "    <tr>\n",
       "      <th>995</th>\n",
       "      <td>400</td>\n",
       "      <td>3.70</td>\n",
       "      <td>2.19</td>\n",
       "    </tr>\n",
       "    <tr>\n",
       "      <th>996</th>\n",
       "      <td>432</td>\n",
       "      <td>3.30</td>\n",
       "      <td>1.50</td>\n",
       "    </tr>\n",
       "    <tr>\n",
       "      <th>997</th>\n",
       "      <td>456</td>\n",
       "      <td>3.50</td>\n",
       "      <td>3.17</td>\n",
       "    </tr>\n",
       "    <tr>\n",
       "      <th>998</th>\n",
       "      <td>480</td>\n",
       "      <td>2.30</td>\n",
       "      <td>1.94</td>\n",
       "    </tr>\n",
       "    <tr>\n",
       "      <th>999</th>\n",
       "      <td>372</td>\n",
       "      <td>2.70</td>\n",
       "      <td>2.38</td>\n",
       "    </tr>\n",
       "  </tbody>\n",
       "</table>\n",
       "<p>1000 rows × 3 columns</p>\n",
       "</div>"
      ],
      "text/plain": [
       "     sat_sum  hs_gpa  fy_gpa\n",
       "0        508    3.40    3.18\n",
       "1        488    4.00    3.33\n",
       "2        464    3.75    3.25\n",
       "3        380    3.75    2.42\n",
       "4        428    4.00    2.63\n",
       "..       ...     ...     ...\n",
       "995      400    3.70    2.19\n",
       "996      432    3.30    1.50\n",
       "997      456    3.50    3.17\n",
       "998      480    2.30    1.94\n",
       "999      372    2.70    2.38\n",
       "\n",
       "[1000 rows x 3 columns]"
      ]
     },
     "execution_count": 57,
     "metadata": {},
     "output_type": "execute_result"
    }
   ],
   "source": [
    "# WE WILL LOAD THE DATASET \n",
    "df=pd.read_csv('Prodigy University Dataset.csv')\n",
    "df"
   ]
  },
  {
   "cell_type": "code",
   "execution_count": 58,
   "id": "79a1d2f5",
   "metadata": {},
   "outputs": [],
   "source": [
    "# Features (X) and target (y)\n",
    "X = df[['sat_sum', 'hs_gpa']]\n",
    "y = df['fy_gpa']"
   ]
  },
  {
   "cell_type": "code",
   "execution_count": 59,
   "id": "15213e8a",
   "metadata": {},
   "outputs": [],
   "source": [
    "# Split data into training and testing sets (80% train, 20% test)\n",
    "X_train, X_test, y_train, y_test = train_test_split(X, y, test_size=0.2, random_state=42)"
   ]
  },
  {
   "cell_type": "code",
   "execution_count": 60,
   "id": "25e48f0d",
   "metadata": {},
   "outputs": [],
   "source": [
    "# --- Linear Regression Model ---\n",
    "lr_model = LinearRegression()#Creates a linear regression model.\n",
    "lr_model.fit(X_train, y_train)#Trains the model on training data.\n",
    "y_pred_lr = lr_model.predict(X_test)#Predicts FY GPA for test data."
   ]
  },
  {
   "cell_type": "code",
   "execution_count": 61,
   "id": "dda74dfe",
   "metadata": {},
   "outputs": [
    {
     "name": "stdout",
     "output_type": "stream",
     "text": [
      "Linear Regression - MSE: 0.3963, R²: 0.3311\n",
      "Coefficients: SAT_sum = 0.0037, HS_GPA = 0.5815\n",
      "Intercept: -0.9166\n"
     ]
    }
   ],
   "source": [
    "# Evaluate Linear Regression\n",
    "lr_mse = mean_squared_error(y_test, y_pred_lr)\n",
    "lr_r2 = r2_score(y_test, y_pred_lr)\n",
    "print(f\"Linear Regression - MSE: {lr_mse:.4f}, R²: {lr_r2:.4f}\")\n",
    "print(f\"Coefficients: SAT_sum = {lr_model.coef_[0]:.4f}, HS_GPA = {lr_model.coef_[1]:.4f}\")\n",
    "print(f\"Intercept: {lr_model.intercept_:.4f}\")"
   ]
  },
  {
   "cell_type": "code",
   "execution_count": 62,
   "id": "ebe36665",
   "metadata": {},
   "outputs": [],
   "source": [
    "# Normalize the features for ANN (neural networks work better with scaled data)\n",
    "X_train_scaled = (X_train - X_train.mean()) / X_train.std()#scales the data so SAT scores\n",
    "X_test_scaled = (X_test - X_train.mean()) / X_train.std()"
   ]
  },
  {
   "cell_type": "code",
   "execution_count": 63,
   "id": "3c595d2c",
   "metadata": {},
   "outputs": [],
   "source": [
    "# Define a simple ANN model\n",
    "def build_ann(optimizer):\n",
    "    model = Sequential([\n",
    "        Dense(16, activation='relu', input_shape=(2,)),  # Hidden layer with 16 neurons\n",
    "        Dense(8, activation='relu'),                    # Hidden layer with 8 neurons\n",
    "        Dense(1)                                        # Output layer (no activation for regression)\n",
    "    ])\n",
    "    model.compile(optimizer=optimizer, loss='mse')      # Mean squared error as loss\n",
    "    return model"
   ]
  },
  {
   "cell_type": "code",
   "execution_count": 64,
   "id": "0849c05f",
   "metadata": {},
   "outputs": [],
   "source": [
    "gradient_descents = {\n",
    "    'Batch': {'batch_size': len(X_train_scaled), 'optimizer': SGD(learning_rate=0.01), 'desc': 'Batch Gradient Descent'},\n",
    "    'SGD': {'batch_size': 1, 'optimizer': SGD(learning_rate=0.01), 'desc': 'Stochastic Gradient Descent'},#Updates weights after every single data point\n",
    "    'Mini-Batch': {'batch_size': 32, 'optimizer': SGD(learning_rate=0.01), 'desc': 'Mini-Batch Gradient Descent'},\n",
    "    'Adam': {'batch_size': 32, 'optimizer': Adam(learning_rate=0.001), 'desc': 'Adam Optimizer'}#Combines momentum and RMSprop.\n",
    "}\n"
   ]
  },
  {
   "cell_type": "code",
   "execution_count": 65,
   "id": "0f8cd1de",
   "metadata": {},
   "outputs": [],
   "source": [
    "results = {}\n",
    "histories = {}"
   ]
  },
  {
   "cell_type": "code",
   "execution_count": 66,
   "id": "d49ad54c",
   "metadata": {},
   "outputs": [
    {
     "name": "stdout",
     "output_type": "stream",
     "text": [
      "\n",
      "Training with Batch Gradient Descent...\n",
      "\n",
      "Training with Stochastic Gradient Descent...\n",
      "\n",
      "Training with Mini-Batch Gradient Descent...\n",
      "\n",
      "Training with Adam Optimizer...\n"
     ]
    }
   ],
   "source": [
    "# Train and evaluate ANN for each configuration\n",
    "for gd_type, config in gradient_descents.items():\n",
    "    print(f\"\\nTraining with {config['desc']}...\")"
   ]
  },
  {
   "cell_type": "code",
   "execution_count": 67,
   "id": "59ddd41d",
   "metadata": {},
   "outputs": [
    {
     "name": "stderr",
     "output_type": "stream",
     "text": [
      "C:\\Users\\VANSHIKA\\anaconda3\\Lib\\site-packages\\keras\\src\\layers\\core\\dense.py:87: UserWarning: Do not pass an `input_shape`/`input_dim` argument to a layer. When using Sequential models, prefer using an `Input(shape)` object as the first layer in the model instead.\n",
      "  super().__init__(activity_regularizer=activity_regularizer, **kwargs)\n"
     ]
    }
   ],
   "source": [
    "# Build the model with the specified optimizer\n",
    "model = build_ann(config['optimizer'])"
   ]
  },
  {
   "cell_type": "code",
   "execution_count": 68,
   "id": "446ab160",
   "metadata": {},
   "outputs": [],
   "source": [
    "# Train the model\n",
    "history = model.fit(\n",
    "        X_train_scaled, y_train,\n",
    "        epochs=50,\n",
    "        batch_size=config['batch_size'],\n",
    "        validation_split=0.2,\n",
    "        verbose=0  # Silent training\n",
    "    )"
   ]
  },
  {
   "cell_type": "code",
   "execution_count": 69,
   "id": "32379981",
   "metadata": {},
   "outputs": [
    {
     "name": "stdout",
     "output_type": "stream",
     "text": [
      "Adam Optimizer - MSE: 0.4001, R²: 0.3247\n"
     ]
    }
   ],
   "source": [
    "# Predict on test set\n",
    "y_pred_ann = model.predict(X_test_scaled, verbose=0)\n",
    "    \n",
    "# Evaluate\n",
    "mse = mean_squared_error(y_test, y_pred_ann)\n",
    "r2 = r2_score(y_test, y_pred_ann)\n",
    "results[gd_type] = {'MSE': mse, 'R²': r2}\n",
    "histories[gd_type] = history.history\n",
    "    \n",
    "print(f\"{config['desc']} - MSE: {mse:.4f}, R²: {r2:.4f}\")"
   ]
  },
  {
   "cell_type": "code",
   "execution_count": 74,
   "id": "73f23d92",
   "metadata": {},
   "outputs": [
    {
     "name": "stderr",
     "output_type": "stream",
     "text": [
      "C:\\Users\\VANSHIKA\\anaconda3\\Lib\\site-packages\\keras\\src\\layers\\core\\dense.py:87: UserWarning: Do not pass an `input_shape`/`input_dim` argument to a layer. When using Sequential models, prefer using an `Input(shape)` object as the first layer in the model instead.\n",
      "  super().__init__(activity_regularizer=activity_regularizer, **kwargs)\n"
     ]
    },
    {
     "data": {
      "image/png": "[encoded data removed]",
      "text/plain": [
       "<Figure size 640x480 with 1 Axes>"
      ]
     },
     "metadata": {},
     "output_type": "display_data"
    }
   ],
   "source": [
    "#Plot training loss for one optimizer (e.g., Adam)\n",
    "ann_model = build_ann(Adam(learning_rate=0.001))\n",
    "history = ann_model.fit(X_train_scaled, y_train, epochs=50, batch_size=32, \n",
    "                       validation_split=0.2, verbose=0)\n",
    "plt.plot(history.history['loss'], label='Training Loss')\n",
    "plt.plot(history.history['val_loss'], label='Validation Loss')\n",
    "plt.title('ANN Loss Over Epochs (Adam)')\n",
    "plt.xlabel('Epoch')\n",
    "plt.ylabel('Loss (MSE)')\n",
    "plt.legend()\n",
    "plt.show()"
   ]
  },
  {
   "cell_type": "code",
   "execution_count": null,
   "id": "6ed5ceb5",
   "metadata": {},
   "outputs": [],
   "source": []
  }
 ],
 "metadata": {
  "kernelspec": {
   "display_name": "Python 3 (ipykernel)",
   "language": "python",
   "name": "python3"
  },
  "language_info": {
   "codemirror_mode": {
    "name": "ipython",
    "version": 3
   },
   "file_extension": ".py",
   "mimetype": "text/x-python",
   "name": "python",
   "nbconvert_exporter": "python",
   "pygments_lexer": "ipython3",
   "version": "3.11.5"
  }
 },
 "nbformat": 4,
 "nbformat_minor": 5
}
